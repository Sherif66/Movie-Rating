{
 "cells": [
  {
   "cell_type": "code",
   "execution_count": 35,
   "id": "2f702bb1",
   "metadata": {},
   "outputs": [],
   "source": [
    "import pandas as pd\n",
    "import seaborn as sns\n",
    "import matplotlib.pyplot as plt"
   ]
  },
  {
   "cell_type": "code",
   "execution_count": 36,
   "id": "a6d53b22",
   "metadata": {},
   "outputs": [],
   "source": [
    "df = pd.read_csv('IMDb Movies India.csv', encoding='latin-1')"
   ]
  },
  {
   "cell_type": "code",
   "execution_count": 37,
   "id": "963b7137",
   "metadata": {},
   "outputs": [
    {
     "name": "stdout",
     "output_type": "stream",
     "text": [
      "First five rows of the dataset:\n",
      "                                 Name    Year Duration  \\\n",
      "0                                         NaN      NaN   \n",
      "1  #Gadhvi (He thought he was Gandhi)  (2019)  109 min   \n",
      "2                         #Homecoming  (2021)   90 min   \n",
      "3                             #Yaaram  (2019)  110 min   \n",
      "4                   ...And Once Again  (2010)  105 min   \n",
      "5                ...Aur Pyaar Ho Gaya  (1997)  147 min   \n",
      "6                           ...Yahaan  (2005)  142 min   \n",
      "7                      .in for Motion  (2008)   59 min   \n",
      "8                  ?: A Question Mark  (2012)   82 min   \n",
      "9                            @Andheri  (2014)  116 min   \n",
      "\n",
      "                       Genre  Rating  Votes            Director  \\\n",
      "0                      Drama     NaN    NaN       J.S. Randhawa   \n",
      "1                      Drama     7.0      8       Gaurav Bakshi   \n",
      "2             Drama, Musical     NaN    NaN  Soumyajit Majumdar   \n",
      "3            Comedy, Romance     4.4     35          Ovais Khan   \n",
      "4                      Drama     NaN    NaN        Amol Palekar   \n",
      "5     Comedy, Drama, Musical     4.7    827        Rahul Rawail   \n",
      "6        Drama, Romance, War     7.4  1,086      Shoojit Sircar   \n",
      "7                Documentary     NaN    NaN       Anirban Datta   \n",
      "8  Horror, Mystery, Thriller     5.6    326       Allyson Patel   \n",
      "9    Action, Crime, Thriller     4.0     11   Biju Bhaskar Nair   \n",
      "\n",
      "           Actor 1                 Actor 2          Actor 3  \n",
      "0         Manmauji                  Birbal  Rajendra Bhatia  \n",
      "1     Rasika Dugal          Vivek Ghamande    Arvind Jangid  \n",
      "2     Sayani Gupta       Plabita Borthakur       Roy Angana  \n",
      "3          Prateik              Ishita Raj  Siddhant Kapoor  \n",
      "4     Rajat Kapoor      Rituparna Sengupta      Antara Mali  \n",
      "5       Bobby Deol  Aishwarya Rai Bachchan    Shammi Kapoor  \n",
      "6  Jimmy Sheirgill          Minissha Lamba   Yashpal Sharma  \n",
      "7              NaN                     NaN              NaN  \n",
      "8        Yash Dave          Muntazir Ahmad     Kiran Bhatia  \n",
      "9        Augustine            Fathima Babu             Byon  \n"
     ]
    }
   ],
   "source": [
    "print(\"First five rows of the dataset:\")\n",
    "print(df.head(10))\n"
   ]
  },
  {
   "cell_type": "code",
   "execution_count": 38,
   "id": "25ae82a8",
   "metadata": {},
   "outputs": [
    {
     "data": {
      "text/html": [
       "<div>\n",
       "<style scoped>\n",
       "    .dataframe tbody tr th:only-of-type {\n",
       "        vertical-align: middle;\n",
       "    }\n",
       "\n",
       "    .dataframe tbody tr th {\n",
       "        vertical-align: top;\n",
       "    }\n",
       "\n",
       "    .dataframe thead th {\n",
       "        text-align: right;\n",
       "    }\n",
       "</style>\n",
       "<table border=\"1\" class=\"dataframe\">\n",
       "  <thead>\n",
       "    <tr style=\"text-align: right;\">\n",
       "      <th></th>\n",
       "      <th>Rating</th>\n",
       "    </tr>\n",
       "  </thead>\n",
       "  <tbody>\n",
       "    <tr>\n",
       "      <th>count</th>\n",
       "      <td>7919.000000</td>\n",
       "    </tr>\n",
       "    <tr>\n",
       "      <th>mean</th>\n",
       "      <td>5.841621</td>\n",
       "    </tr>\n",
       "    <tr>\n",
       "      <th>std</th>\n",
       "      <td>1.381777</td>\n",
       "    </tr>\n",
       "    <tr>\n",
       "      <th>min</th>\n",
       "      <td>1.100000</td>\n",
       "    </tr>\n",
       "    <tr>\n",
       "      <th>25%</th>\n",
       "      <td>4.900000</td>\n",
       "    </tr>\n",
       "    <tr>\n",
       "      <th>50%</th>\n",
       "      <td>6.000000</td>\n",
       "    </tr>\n",
       "    <tr>\n",
       "      <th>75%</th>\n",
       "      <td>6.800000</td>\n",
       "    </tr>\n",
       "    <tr>\n",
       "      <th>max</th>\n",
       "      <td>10.000000</td>\n",
       "    </tr>\n",
       "  </tbody>\n",
       "</table>\n",
       "</div>"
      ],
      "text/plain": [
       "            Rating\n",
       "count  7919.000000\n",
       "mean      5.841621\n",
       "std       1.381777\n",
       "min       1.100000\n",
       "25%       4.900000\n",
       "50%       6.000000\n",
       "75%       6.800000\n",
       "max      10.000000"
      ]
     },
     "execution_count": 38,
     "metadata": {},
     "output_type": "execute_result"
    }
   ],
   "source": [
    "df.describe()"
   ]
  },
  {
   "cell_type": "code",
   "execution_count": 39,
   "id": "5c9441a5",
   "metadata": {},
   "outputs": [
    {
     "name": "stdout",
     "output_type": "stream",
     "text": [
      "<class 'pandas.core.frame.DataFrame'>\n",
      "RangeIndex: 15509 entries, 0 to 15508\n",
      "Data columns (total 10 columns):\n",
      " #   Column    Non-Null Count  Dtype  \n",
      "---  ------    --------------  -----  \n",
      " 0   Name      15509 non-null  object \n",
      " 1   Year      14981 non-null  object \n",
      " 2   Duration  7240 non-null   object \n",
      " 3   Genre     13632 non-null  object \n",
      " 4   Rating    7919 non-null   float64\n",
      " 5   Votes     7920 non-null   object \n",
      " 6   Director  14984 non-null  object \n",
      " 7   Actor 1   13892 non-null  object \n",
      " 8   Actor 2   13125 non-null  object \n",
      " 9   Actor 3   12365 non-null  object \n",
      "dtypes: float64(1), object(9)\n",
      "memory usage: 1.2+ MB\n"
     ]
    }
   ],
   "source": [
    "df.info()"
   ]
  },
  {
   "cell_type": "code",
   "execution_count": 40,
   "id": "2e4da515",
   "metadata": {},
   "outputs": [
    {
     "data": {
      "text/plain": [
       "Name           0\n",
       "Year         528\n",
       "Duration    8269\n",
       "Genre       1877\n",
       "Rating      7590\n",
       "Votes       7589\n",
       "Director     525\n",
       "Actor 1     1617\n",
       "Actor 2     2384\n",
       "Actor 3     3144\n",
       "dtype: int64"
      ]
     },
     "execution_count": 40,
     "metadata": {},
     "output_type": "execute_result"
    }
   ],
   "source": [
    "df.isnull().sum()"
   ]
  },
  {
   "cell_type": "code",
   "execution_count": 41,
   "id": "19bb8eb3",
   "metadata": {},
   "outputs": [
    {
     "data": {
      "text/plain": [
       "33523"
      ]
     },
     "execution_count": 41,
     "metadata": {},
     "output_type": "execute_result"
    }
   ],
   "source": [
    "df.isnull().sum().sum()"
   ]
  },
  {
   "cell_type": "code",
   "execution_count": 42,
   "id": "b3811cf8",
   "metadata": {},
   "outputs": [
    {
     "data": {
      "text/plain": [
       "(15509, 10)"
      ]
     },
     "execution_count": 42,
     "metadata": {},
     "output_type": "execute_result"
    }
   ],
   "source": [
    "df.shape"
   ]
  },
  {
   "cell_type": "code",
   "execution_count": 43,
   "id": "e423d030",
   "metadata": {},
   "outputs": [],
   "source": [
    "df.dropna(inplace = True)"
   ]
  },
  {
   "cell_type": "code",
   "execution_count": 44,
   "id": "e9b3bf3c",
   "metadata": {},
   "outputs": [
    {
     "data": {
      "text/plain": [
       "(5659, 10)"
      ]
     },
     "execution_count": 44,
     "metadata": {},
     "output_type": "execute_result"
    }
   ],
   "source": [
    "df.shape"
   ]
  },
  {
   "cell_type": "code",
   "execution_count": 45,
   "id": "66f61526",
   "metadata": {},
   "outputs": [
    {
     "data": {
      "text/html": [
       "<div>\n",
       "<style scoped>\n",
       "    .dataframe tbody tr th:only-of-type {\n",
       "        vertical-align: middle;\n",
       "    }\n",
       "\n",
       "    .dataframe tbody tr th {\n",
       "        vertical-align: top;\n",
       "    }\n",
       "\n",
       "    .dataframe thead th {\n",
       "        text-align: right;\n",
       "    }\n",
       "</style>\n",
       "<table border=\"1\" class=\"dataframe\">\n",
       "  <thead>\n",
       "    <tr style=\"text-align: right;\">\n",
       "      <th></th>\n",
       "      <th>Name</th>\n",
       "      <th>Year</th>\n",
       "      <th>Duration</th>\n",
       "      <th>Genre</th>\n",
       "      <th>Rating</th>\n",
       "      <th>Votes</th>\n",
       "      <th>Director</th>\n",
       "      <th>Actor 1</th>\n",
       "      <th>Actor 2</th>\n",
       "      <th>Actor 3</th>\n",
       "    </tr>\n",
       "  </thead>\n",
       "  <tbody>\n",
       "    <tr>\n",
       "      <th>1</th>\n",
       "      <td>#Gadhvi (He thought he was Gandhi)</td>\n",
       "      <td>(2019)</td>\n",
       "      <td>109 min</td>\n",
       "      <td>Drama</td>\n",
       "      <td>7.0</td>\n",
       "      <td>8</td>\n",
       "      <td>Gaurav Bakshi</td>\n",
       "      <td>Rasika Dugal</td>\n",
       "      <td>Vivek Ghamande</td>\n",
       "      <td>Arvind Jangid</td>\n",
       "    </tr>\n",
       "    <tr>\n",
       "      <th>3</th>\n",
       "      <td>#Yaaram</td>\n",
       "      <td>(2019)</td>\n",
       "      <td>110 min</td>\n",
       "      <td>Comedy, Romance</td>\n",
       "      <td>4.4</td>\n",
       "      <td>35</td>\n",
       "      <td>Ovais Khan</td>\n",
       "      <td>Prateik</td>\n",
       "      <td>Ishita Raj</td>\n",
       "      <td>Siddhant Kapoor</td>\n",
       "    </tr>\n",
       "    <tr>\n",
       "      <th>5</th>\n",
       "      <td>...Aur Pyaar Ho Gaya</td>\n",
       "      <td>(1997)</td>\n",
       "      <td>147 min</td>\n",
       "      <td>Comedy, Drama, Musical</td>\n",
       "      <td>4.7</td>\n",
       "      <td>827</td>\n",
       "      <td>Rahul Rawail</td>\n",
       "      <td>Bobby Deol</td>\n",
       "      <td>Aishwarya Rai Bachchan</td>\n",
       "      <td>Shammi Kapoor</td>\n",
       "    </tr>\n",
       "    <tr>\n",
       "      <th>6</th>\n",
       "      <td>...Yahaan</td>\n",
       "      <td>(2005)</td>\n",
       "      <td>142 min</td>\n",
       "      <td>Drama, Romance, War</td>\n",
       "      <td>7.4</td>\n",
       "      <td>1,086</td>\n",
       "      <td>Shoojit Sircar</td>\n",
       "      <td>Jimmy Sheirgill</td>\n",
       "      <td>Minissha Lamba</td>\n",
       "      <td>Yashpal Sharma</td>\n",
       "    </tr>\n",
       "    <tr>\n",
       "      <th>8</th>\n",
       "      <td>?: A Question Mark</td>\n",
       "      <td>(2012)</td>\n",
       "      <td>82 min</td>\n",
       "      <td>Horror, Mystery, Thriller</td>\n",
       "      <td>5.6</td>\n",
       "      <td>326</td>\n",
       "      <td>Allyson Patel</td>\n",
       "      <td>Yash Dave</td>\n",
       "      <td>Muntazir Ahmad</td>\n",
       "      <td>Kiran Bhatia</td>\n",
       "    </tr>\n",
       "    <tr>\n",
       "      <th>9</th>\n",
       "      <td>@Andheri</td>\n",
       "      <td>(2014)</td>\n",
       "      <td>116 min</td>\n",
       "      <td>Action, Crime, Thriller</td>\n",
       "      <td>4.0</td>\n",
       "      <td>11</td>\n",
       "      <td>Biju Bhaskar Nair</td>\n",
       "      <td>Augustine</td>\n",
       "      <td>Fathima Babu</td>\n",
       "      <td>Byon</td>\n",
       "    </tr>\n",
       "    <tr>\n",
       "      <th>10</th>\n",
       "      <td>1:1.6 An Ode to Lost Love</td>\n",
       "      <td>(2004)</td>\n",
       "      <td>96 min</td>\n",
       "      <td>Drama</td>\n",
       "      <td>6.2</td>\n",
       "      <td>17</td>\n",
       "      <td>Madhu Ambat</td>\n",
       "      <td>Rati Agnihotri</td>\n",
       "      <td>Gulshan Grover</td>\n",
       "      <td>Atul Kulkarni</td>\n",
       "    </tr>\n",
       "    <tr>\n",
       "      <th>11</th>\n",
       "      <td>1:13:7 Ek Tera Saath</td>\n",
       "      <td>(2016)</td>\n",
       "      <td>120 min</td>\n",
       "      <td>Horror</td>\n",
       "      <td>5.9</td>\n",
       "      <td>59</td>\n",
       "      <td>Arshad Siddiqui</td>\n",
       "      <td>Pankaj Berry</td>\n",
       "      <td>Anubhav Dhir</td>\n",
       "      <td>Hritu Dudani</td>\n",
       "    </tr>\n",
       "    <tr>\n",
       "      <th>12</th>\n",
       "      <td>100 Days</td>\n",
       "      <td>(1991)</td>\n",
       "      <td>161 min</td>\n",
       "      <td>Horror, Romance, Thriller</td>\n",
       "      <td>6.5</td>\n",
       "      <td>983</td>\n",
       "      <td>Partho Ghosh</td>\n",
       "      <td>Jackie Shroff</td>\n",
       "      <td>Madhuri Dixit</td>\n",
       "      <td>Javed Jaffrey</td>\n",
       "    </tr>\n",
       "    <tr>\n",
       "      <th>13</th>\n",
       "      <td>100% Love</td>\n",
       "      <td>(2012)</td>\n",
       "      <td>166 min</td>\n",
       "      <td>Comedy, Drama, Romance</td>\n",
       "      <td>5.7</td>\n",
       "      <td>512</td>\n",
       "      <td>Rabi Kinagi</td>\n",
       "      <td>Jeet</td>\n",
       "      <td>Koyel Mallick</td>\n",
       "      <td>Sujoy Ghosh</td>\n",
       "    </tr>\n",
       "  </tbody>\n",
       "</table>\n",
       "</div>"
      ],
      "text/plain": [
       "                                  Name    Year Duration  \\\n",
       "1   #Gadhvi (He thought he was Gandhi)  (2019)  109 min   \n",
       "3                              #Yaaram  (2019)  110 min   \n",
       "5                 ...Aur Pyaar Ho Gaya  (1997)  147 min   \n",
       "6                            ...Yahaan  (2005)  142 min   \n",
       "8                   ?: A Question Mark  (2012)   82 min   \n",
       "9                             @Andheri  (2014)  116 min   \n",
       "10           1:1.6 An Ode to Lost Love  (2004)   96 min   \n",
       "11                1:13:7 Ek Tera Saath  (2016)  120 min   \n",
       "12                            100 Days  (1991)  161 min   \n",
       "13                           100% Love  (2012)  166 min   \n",
       "\n",
       "                        Genre  Rating  Votes           Director  \\\n",
       "1                       Drama     7.0      8      Gaurav Bakshi   \n",
       "3             Comedy, Romance     4.4     35         Ovais Khan   \n",
       "5      Comedy, Drama, Musical     4.7    827       Rahul Rawail   \n",
       "6         Drama, Romance, War     7.4  1,086     Shoojit Sircar   \n",
       "8   Horror, Mystery, Thriller     5.6    326      Allyson Patel   \n",
       "9     Action, Crime, Thriller     4.0     11  Biju Bhaskar Nair   \n",
       "10                      Drama     6.2     17        Madhu Ambat   \n",
       "11                     Horror     5.9     59    Arshad Siddiqui   \n",
       "12  Horror, Romance, Thriller     6.5    983       Partho Ghosh   \n",
       "13     Comedy, Drama, Romance     5.7    512        Rabi Kinagi   \n",
       "\n",
       "            Actor 1                 Actor 2          Actor 3  \n",
       "1      Rasika Dugal          Vivek Ghamande    Arvind Jangid  \n",
       "3           Prateik              Ishita Raj  Siddhant Kapoor  \n",
       "5        Bobby Deol  Aishwarya Rai Bachchan    Shammi Kapoor  \n",
       "6   Jimmy Sheirgill          Minissha Lamba   Yashpal Sharma  \n",
       "8         Yash Dave          Muntazir Ahmad     Kiran Bhatia  \n",
       "9         Augustine            Fathima Babu             Byon  \n",
       "10   Rati Agnihotri          Gulshan Grover    Atul Kulkarni  \n",
       "11     Pankaj Berry            Anubhav Dhir     Hritu Dudani  \n",
       "12    Jackie Shroff           Madhuri Dixit    Javed Jaffrey  \n",
       "13             Jeet           Koyel Mallick      Sujoy Ghosh  "
      ]
     },
     "execution_count": 45,
     "metadata": {},
     "output_type": "execute_result"
    }
   ],
   "source": [
    "df.head(10)"
   ]
  },
  {
   "cell_type": "code",
   "execution_count": 46,
   "id": "c9b344b0",
   "metadata": {},
   "outputs": [
    {
     "data": {
      "text/plain": [
       "Name        0\n",
       "Year        0\n",
       "Duration    0\n",
       "Genre       0\n",
       "Rating      0\n",
       "Votes       0\n",
       "Director    0\n",
       "Actor 1     0\n",
       "Actor 2     0\n",
       "Actor 3     0\n",
       "dtype: int64"
      ]
     },
     "execution_count": 46,
     "metadata": {},
     "output_type": "execute_result"
    }
   ],
   "source": [
    "df.isnull().sum()"
   ]
  },
  {
   "cell_type": "code",
   "execution_count": 47,
   "id": "276df334",
   "metadata": {},
   "outputs": [
    {
     "name": "stdout",
     "output_type": "stream",
     "text": [
      "              Name    Year Duration                      Genre  Rating  Votes  \\\n",
      "186         Aabroo  (1968)  170 min       Comedy, Crime, Drama     5.5     21   \n",
      "192      Aadamkhor  (2018)   72 min                     Horror     7.4    150   \n",
      "199        Aadhaar  (2019)  107 min                      Drama     7.6     69   \n",
      "201    Aadharshila  (1982)  154 min                      Drama     6.4     19   \n",
      "212          Aadmi  (1968)  175 min             Drama, Romance     6.8    196   \n",
      "...            ...     ...      ...                        ...     ...    ...   \n",
      "15488          Zoo  (2018)  100 min                      Drama     5.7     78   \n",
      "15492        Zorro  (1975)  150 min  Action, Adventure, Comedy     5.6     33   \n",
      "15493       Zubaan  (2015)  115 min                      Drama     6.1    408   \n",
      "15494     Zubeidaa  (2001)  153 min  Biography, Drama, History     6.2  1,496   \n",
      "15505        Zulmi  (1999)  129 min              Action, Drama     4.5    655   \n",
      "\n",
      "             Director             Actor 1          Actor 2  \\\n",
      "186        C.L. Rawal         Ashok Kumar             Vimi   \n",
      "192    Kshitij Sharma           Deeya Dey    Anoma Pabuwal   \n",
      "199       Suman Ghosh  Vineet Kumar Singh   Saurabh Shukla   \n",
      "201       Ashok Ahuja     Dolly Ahluwalia     Raja Bundela   \n",
      "212      A. Bhimsingh         Dilip Kumar   Waheeda Rehman   \n",
      "...               ...                 ...              ...   \n",
      "15488    Shlok Sharma      Shashank Arora    Prince Daniel   \n",
      "15492     Shibu Mitra       Navin Nischol            Rekha   \n",
      "15493     Mozez Singh       Vicky Kaushal  Sarah Jane Dias   \n",
      "15494   Shyam Benegal      Karisma Kapoor            Rekha   \n",
      "15505      Kuku Kohli        Akshay Kumar   Twinkle Khanna   \n",
      "\n",
      "                    Actor 3  \n",
      "186                  Rehman  \n",
      "192    Mahendra Singh Rawat  \n",
      "199          Raghuvir Yadav  \n",
      "201             Neena Gupta  \n",
      "212             Manoj Kumar  \n",
      "...                     ...  \n",
      "15488       Shatakshi Gupta  \n",
      "15492          Urmila Bhatt  \n",
      "15493      Raaghavv Chanana  \n",
      "15494        Manoj Bajpayee  \n",
      "15505           Aruna Irani  \n",
      "\n",
      "[2140 rows x 10 columns]\n"
     ]
    }
   ],
   "source": [
    "# Create a new DataFrame with only rows where 'MovieName' contains valid characters\n",
    "df = df[df['Name'].apply(lambda x: x.isalpha() or x.isspace())]\n",
    "\n",
    "# Display the DataFrame with only valid movie names\n",
    "print(df)"
   ]
  },
  {
   "cell_type": "code",
   "execution_count": 48,
   "id": "7802a313",
   "metadata": {},
   "outputs": [],
   "source": [
    "# Remove \"-\" from the \"year\" column\n",
    "df['Year'] = df['Year'].str.replace('-', '')\n",
    "df['Year'] = df['Year'].str.replace(r'\\(|\\)', '', regex=True)\n"
   ]
  },
  {
   "cell_type": "code",
   "execution_count": 49,
   "id": "e0d0b05f",
   "metadata": {},
   "outputs": [
    {
     "name": "stdout",
     "output_type": "stream",
     "text": [
      "\n",
      "After Removing '-':\n",
      "            Name  Year Duration                 Genre  Rating Votes  \\\n",
      "186       Aabroo  1968  170 min  Comedy, Crime, Drama     5.5    21   \n",
      "192    Aadamkhor  2018   72 min                Horror     7.4   150   \n",
      "199      Aadhaar  2019  107 min                 Drama     7.6    69   \n",
      "201  Aadharshila  1982  154 min                 Drama     6.4    19   \n",
      "212        Aadmi  1968  175 min        Drama, Romance     6.8   196   \n",
      "\n",
      "           Director             Actor 1         Actor 2               Actor 3  \n",
      "186      C.L. Rawal         Ashok Kumar            Vimi                Rehman  \n",
      "192  Kshitij Sharma           Deeya Dey   Anoma Pabuwal  Mahendra Singh Rawat  \n",
      "199     Suman Ghosh  Vineet Kumar Singh  Saurabh Shukla        Raghuvir Yadav  \n",
      "201     Ashok Ahuja     Dolly Ahluwalia    Raja Bundela           Neena Gupta  \n",
      "212    A. Bhimsingh         Dilip Kumar  Waheeda Rehman           Manoj Kumar  \n"
     ]
    }
   ],
   "source": [
    "# Display the first few rows of the DataFrame after preprocessing\n",
    "print(\"\\nAfter Removing '-':\")\n",
    "print(df.head())"
   ]
  },
  {
   "cell_type": "code",
   "execution_count": 50,
   "id": "625a6f58",
   "metadata": {},
   "outputs": [
    {
     "name": "stdout",
     "output_type": "stream",
     "text": [
      "               Name  Year Duration                  Genre  Rating Votes  \\\n",
      "186          Aabroo  1968     170    Comedy, Crime, Drama     5.5    21   \n",
      "192       Aadamkhor  2018      72                  Horror     7.4   150   \n",
      "199         Aadhaar  2019     107                   Drama     7.6    69   \n",
      "201     Aadharshila  1982     154                   Drama     6.4    19   \n",
      "212           Aadmi  1968     175          Drama, Romance     6.8   196   \n",
      "213           Aadmi  1993     153    Action, Crime, Drama     6.5    97   \n",
      "220  Aadupuliyattam  2016     145                  Horror     4.2   266   \n",
      "221           Aafat  1977     148            Crime, Drama     5.3    17   \n",
      "224             Aag  1948     138        Musical, Romance     7.4   357   \n",
      "226             Aag  1994     139   Action, Comedy, Drama     4.6   227   \n",
      "\n",
      "                 Director             Actor 1               Actor 2  \\\n",
      "186            C.L. Rawal         Ashok Kumar                  Vimi   \n",
      "192        Kshitij Sharma           Deeya Dey         Anoma Pabuwal   \n",
      "199           Suman Ghosh  Vineet Kumar Singh        Saurabh Shukla   \n",
      "201           Ashok Ahuja     Dolly Ahluwalia          Raja Bundela   \n",
      "212          A. Bhimsingh         Dilip Kumar        Waheeda Rehman   \n",
      "213           Arshad Khan                Ajit           Vikas Anand   \n",
      "220  Kannan Thamarakkulam             Jayaram        Ramya Krishnan   \n",
      "221              Atma Ram       Navin Nischol    Leena Chandavarkar   \n",
      "224            Raj Kapoor              Nargis        Kamini Kaushal   \n",
      "226       K. Ravi Shankar             Govinda  Shilpa Shetty Kundra   \n",
      "\n",
      "                  Actor 3  \n",
      "186                Rehman  \n",
      "192  Mahendra Singh Rawat  \n",
      "199        Raghuvir Yadav  \n",
      "201           Neena Gupta  \n",
      "212           Manoj Kumar  \n",
      "213                 Arjun  \n",
      "220               Om Puri  \n",
      "221           Jayshree T.  \n",
      "224         Nigar Sultana  \n",
      "226         Sonali Bendre  \n"
     ]
    }
   ],
   "source": [
    "# Remove the word \"min\" from the 'Duration' column\n",
    "df['Duration'] = df['Duration'].str.replace('min', '', regex=False)\n",
    "print(df.head(10))"
   ]
  },
  {
   "cell_type": "code",
   "execution_count": 51,
   "id": "372df8da",
   "metadata": {},
   "outputs": [],
   "source": [
    "# Assuming 'Name' is the column containing multiple words separated by commas\n",
    "# Split the column into multiple columns and dynamically generate column names\n",
    "max_words = df['Genre'].str.count(',').fillna(0).max() + 1  # Maximum number of words in any row\n",
    "columns_to_add = [f'Genre{i}' for i in range(1, int(max_words) + 1)]\n",
    "df[columns_to_add] = df['Genre'].str.split(',', expand=True)"
   ]
  },
  {
   "cell_type": "code",
   "execution_count": 52,
   "id": "3816e32d",
   "metadata": {},
   "outputs": [
    {
     "name": "stdout",
     "output_type": "stream",
     "text": [
      "\n",
      "After Removing '-':\n",
      "            Name  Year Duration                 Genre  Rating Votes  \\\n",
      "186       Aabroo  1968     170   Comedy, Crime, Drama     5.5    21   \n",
      "192    Aadamkhor  2018      72                 Horror     7.4   150   \n",
      "199      Aadhaar  2019     107                  Drama     7.6    69   \n",
      "201  Aadharshila  1982     154                  Drama     6.4    19   \n",
      "212        Aadmi  1968     175         Drama, Romance     6.8   196   \n",
      "\n",
      "           Director             Actor 1         Actor 2               Actor 3  \\\n",
      "186      C.L. Rawal         Ashok Kumar            Vimi                Rehman   \n",
      "192  Kshitij Sharma           Deeya Dey   Anoma Pabuwal  Mahendra Singh Rawat   \n",
      "199     Suman Ghosh  Vineet Kumar Singh  Saurabh Shukla        Raghuvir Yadav   \n",
      "201     Ashok Ahuja     Dolly Ahluwalia    Raja Bundela           Neena Gupta   \n",
      "212    A. Bhimsingh         Dilip Kumar  Waheeda Rehman           Manoj Kumar   \n",
      "\n",
      "     Genre1    Genre2  Genre3  \n",
      "186  Comedy     Crime   Drama  \n",
      "192  Horror      None    None  \n",
      "199   Drama      None    None  \n",
      "201   Drama      None    None  \n",
      "212   Drama   Romance    None  \n"
     ]
    }
   ],
   "source": [
    "# Remove \"-\" from the \"year\" column\n",
    "df['Year'] = df['Year'].str.replace('-', '')\n",
    "\n",
    "# Display the first few rows of the DataFrame after preprocessing\n",
    "print(\"\\nAfter Removing '-':\")\n",
    "print(df.head())"
   ]
  },
  {
   "cell_type": "code",
   "execution_count": 53,
   "id": "4d8be0ad",
   "metadata": {},
   "outputs": [
    {
     "name": "stdout",
     "output_type": "stream",
     "text": [
      "              Name  Year Duration                      Genre  Rating  Votes  \\\n",
      "186         Aabroo  1968     170        Comedy, Crime, Drama     5.5     21   \n",
      "192      Aadamkhor  2018      72                      Horror     7.4    150   \n",
      "199        Aadhaar  2019     107                       Drama     7.6     69   \n",
      "201    Aadharshila  1982     154                       Drama     6.4     19   \n",
      "212          Aadmi  1968     175              Drama, Romance     6.8    196   \n",
      "...            ...   ...      ...                        ...     ...    ...   \n",
      "15488          Zoo  2018     100                       Drama     5.7     78   \n",
      "15492        Zorro  1975     150   Action, Adventure, Comedy     5.6     33   \n",
      "15493       Zubaan  2015     115                       Drama     6.1    408   \n",
      "15494     Zubeidaa  2001     153   Biography, Drama, History     6.2  1,496   \n",
      "15505        Zulmi  1999     129               Action, Drama     4.5    655   \n",
      "\n",
      "             Director             Actor 1          Actor 2  \\\n",
      "186        C.L. Rawal         Ashok Kumar             Vimi   \n",
      "192    Kshitij Sharma           Deeya Dey    Anoma Pabuwal   \n",
      "199       Suman Ghosh  Vineet Kumar Singh   Saurabh Shukla   \n",
      "201       Ashok Ahuja     Dolly Ahluwalia     Raja Bundela   \n",
      "212      A. Bhimsingh         Dilip Kumar   Waheeda Rehman   \n",
      "...               ...                 ...              ...   \n",
      "15488    Shlok Sharma      Shashank Arora    Prince Daniel   \n",
      "15492     Shibu Mitra       Navin Nischol            Rekha   \n",
      "15493     Mozez Singh       Vicky Kaushal  Sarah Jane Dias   \n",
      "15494   Shyam Benegal      Karisma Kapoor            Rekha   \n",
      "15505      Kuku Kohli        Akshay Kumar   Twinkle Khanna   \n",
      "\n",
      "                    Actor 3     Genre1      Genre2    Genre3  \n",
      "186                  Rehman     Comedy       Crime     Drama  \n",
      "192    Mahendra Singh Rawat     Horror        None      None  \n",
      "199          Raghuvir Yadav      Drama        None      None  \n",
      "201             Neena Gupta      Drama        None      None  \n",
      "212             Manoj Kumar      Drama     Romance      None  \n",
      "...                     ...        ...         ...       ...  \n",
      "15488       Shatakshi Gupta      Drama        None      None  \n",
      "15492          Urmila Bhatt     Action   Adventure    Comedy  \n",
      "15493      Raaghavv Chanana      Drama        None      None  \n",
      "15494        Manoj Bajpayee  Biography       Drama   History  \n",
      "15505           Aruna Irani     Action       Drama      None  \n",
      "\n",
      "[2140 rows x 13 columns]\n"
     ]
    }
   ],
   "source": [
    "# Display the DataFrame after dropping the 'Genre' column\n",
    "print(df)"
   ]
  },
  {
   "cell_type": "code",
   "execution_count": 54,
   "id": "7086818f",
   "metadata": {},
   "outputs": [
    {
     "name": "stdout",
     "output_type": "stream",
     "text": [
      "Total Sum of Genres:\n",
      "Drama          1579\n",
      "Action          755\n",
      "Romance         499\n",
      "Crime           393\n",
      "Comedy          308\n",
      "Thriller        285\n",
      "Musical         173\n",
      "Family          163\n",
      "Mystery         129\n",
      "Adventure        94\n",
      "Horror           74\n",
      "Fantasy          41\n",
      "Biography        36\n",
      "History          32\n",
      "Sport            18\n",
      "Sci-Fi           15\n",
      "Music            13\n",
      "War               8\n",
      "Animation         6\n",
      "Documentary       6\n",
      "News              1\n",
      "Western           1\n",
      "dtype: int32\n"
     ]
    },
    {
     "data": {
      "image/png": "[encoded data removed]",
      "text/plain": [
       "<Figure size 1000x600 with 1 Axes>"
      ]
     },
     "metadata": {},
     "output_type": "display_data"
    }
   ],
   "source": [
    "# Combine counts from \"Genre1,\" \"Genre2,\" and \"Genre3\"\n",
    "combined_genres = df[['Genre1', 'Genre2', 'Genre3']].stack()\n",
    "\n",
    "# Remove leading spaces from each genre\n",
    "combined_genres = combined_genres.str.strip()\n",
    "\n",
    "# Calculate the total sum of each genre\n",
    "total_genre_counts = combined_genres.value_counts()\n",
    "\n",
    "# Convert the total_genre_counts to integer\n",
    "total_genre_counts = total_genre_counts.astype(int)\n",
    "\n",
    "# Print the total sum of each genre\n",
    "print(\"Total Sum of Genres:\")\n",
    "print(total_genre_counts)\n",
    "\n",
    "# Plotting bar chart for total_genre_counts\n",
    "plt.figure(figsize=(10, 6))\n",
    "total_genre_counts.plot(kind='bar', color='skyblue')\n",
    "plt.title('Total Sum of Genres')\n",
    "plt.xlabel('Genre')\n",
    "plt.ylabel('Count')\n",
    "plt.show()"
   ]
  },
  {
   "cell_type": "code",
   "execution_count": null,
   "id": "8f9289dc",
   "metadata": {},
   "outputs": [],
   "source": []
  },
  {
   "cell_type": "code",
   "execution_count": null,
   "id": "069e4009",
   "metadata": {},
   "outputs": [],
   "source": []
  },
  {
   "cell_type": "code",
   "execution_count": 55,
   "id": "9a26052c",
   "metadata": {},
   "outputs": [
    {
     "name": "stdout",
     "output_type": "stream",
     "text": [
      "              Name  Year Duration                      Genre  Rating  Votes  \\\n",
      "186         Aabroo  1968     170        Comedy, Crime, Drama     5.5     21   \n",
      "192      Aadamkhor  2018      72                      Horror     7.4    150   \n",
      "199        Aadhaar  2019     107                       Drama     7.6     69   \n",
      "201    Aadharshila  1982     154                       Drama     6.4     19   \n",
      "212          Aadmi  1968     175              Drama, Romance     6.8    196   \n",
      "...            ...   ...      ...                        ...     ...    ...   \n",
      "15488          Zoo  2018     100                       Drama     5.7     78   \n",
      "15492        Zorro  1975     150   Action, Adventure, Comedy     5.6     33   \n",
      "15493       Zubaan  2015     115                       Drama     6.1    408   \n",
      "15494     Zubeidaa  2001     153   Biography, Drama, History     6.2   1496   \n",
      "15505        Zulmi  1999     129               Action, Drama     4.5    655   \n",
      "\n",
      "             Director             Actor 1          Actor 2  \\\n",
      "186        C.L. Rawal         Ashok Kumar             Vimi   \n",
      "192    Kshitij Sharma           Deeya Dey    Anoma Pabuwal   \n",
      "199       Suman Ghosh  Vineet Kumar Singh   Saurabh Shukla   \n",
      "201       Ashok Ahuja     Dolly Ahluwalia     Raja Bundela   \n",
      "212      A. Bhimsingh         Dilip Kumar   Waheeda Rehman   \n",
      "...               ...                 ...              ...   \n",
      "15488    Shlok Sharma      Shashank Arora    Prince Daniel   \n",
      "15492     Shibu Mitra       Navin Nischol            Rekha   \n",
      "15493     Mozez Singh       Vicky Kaushal  Sarah Jane Dias   \n",
      "15494   Shyam Benegal      Karisma Kapoor            Rekha   \n",
      "15505      Kuku Kohli        Akshay Kumar   Twinkle Khanna   \n",
      "\n",
      "                    Actor 3     Genre1      Genre2    Genre3  \n",
      "186                  Rehman     Comedy       Crime     Drama  \n",
      "192    Mahendra Singh Rawat     Horror        None      None  \n",
      "199          Raghuvir Yadav      Drama        None      None  \n",
      "201             Neena Gupta      Drama        None      None  \n",
      "212             Manoj Kumar      Drama     Romance      None  \n",
      "...                     ...        ...         ...       ...  \n",
      "15488       Shatakshi Gupta      Drama        None      None  \n",
      "15492          Urmila Bhatt     Action   Adventure    Comedy  \n",
      "15493      Raaghavv Chanana      Drama        None      None  \n",
      "15494        Manoj Bajpayee  Biography       Drama   History  \n",
      "15505           Aruna Irani     Action       Drama      None  \n",
      "\n",
      "[2140 rows x 13 columns]\n"
     ]
    }
   ],
   "source": [
    "# Convert the \"Votes\" column to string and remove commas\n",
    "df['Votes'] = df['Votes'].astype(str).str.replace(',', '')\n",
    "\n",
    "# Convert the \"Votes\" column to integer\n",
    "df['Votes'] = df['Votes'].astype(int)\n",
    "\n",
    "# Display the DataFrame after removing commas from \"Votes\"\n",
    "print(df)"
   ]
  },
  {
   "cell_type": "code",
   "execution_count": null,
   "id": "898ff489",
   "metadata": {},
   "outputs": [],
   "source": []
  },
  {
   "cell_type": "code",
   "execution_count": 56,
   "id": "7f2341d6",
   "metadata": {},
   "outputs": [
    {
     "data": {
      "text/plain": [
       "1108"
      ]
     },
     "execution_count": 56,
     "metadata": {},
     "output_type": "execute_result"
    }
   ],
   "source": [
    "df[\"Director\"].nunique()"
   ]
  },
  {
   "cell_type": "code",
   "execution_count": 57,
   "id": "687e9adb",
   "metadata": {},
   "outputs": [],
   "source": [
    "directors = df[\"Director\"].value_counts()"
   ]
  },
  {
   "cell_type": "code",
   "execution_count": 58,
   "id": "f9326cb7",
   "metadata": {},
   "outputs": [
    {
     "data": {
      "text/plain": [
       "Mahesh Bhatt                27\n",
       "Ram Gopal Varma             19\n",
       "Hrishikesh Mukherjee        18\n",
       "Vikram Bhatt                16\n",
       "Gulzar                      14\n",
       "Shakti Samanta              14\n",
       "Yash Chopra                 14\n",
       "Priyadarshan                13\n",
       "Abbas Alibhai Burmawalla    13\n",
       "Basu Chatterjee             12\n",
       "Raj N. Sippy                11\n",
       "Name: Director, dtype: int64"
      ]
     },
     "execution_count": 58,
     "metadata": {},
     "output_type": "execute_result"
    }
   ],
   "source": [
    "directors.head(11)"
   ]
  },
  {
   "cell_type": "code",
   "execution_count": 59,
   "id": "fd6e5724",
   "metadata": {},
   "outputs": [],
   "source": [
    "actors = pd.concat([df['Actor 1'], df['Actor 2'], df['Actor 3']]).dropna().value_counts()"
   ]
  },
  {
   "cell_type": "code",
   "execution_count": 60,
   "id": "7e4e6686",
   "metadata": {},
   "outputs": [
    {
     "data": {
      "text/plain": [
       "Amitabh Bachchan      77\n",
       "Mithun Chakraborty    70\n",
       "Dharmendra            60\n",
       "Ajay Devgn            53\n",
       "Jeetendra             53\n",
       "Ashok Kumar           53\n",
       "Sanjay Dutt           53\n",
       "Sanjeev Kumar         47\n",
       "Shashi Kapoor         46\n",
       "Naseeruddin Shah      46\n",
       "Rajesh Khanna         44\n",
       "dtype: int64"
      ]
     },
     "execution_count": 60,
     "metadata": {},
     "output_type": "execute_result"
    }
   ],
   "source": [
    "actors.head(11)"
   ]
  },
  {
   "cell_type": "code",
   "execution_count": 61,
   "id": "a9d4a4fb",
   "metadata": {},
   "outputs": [],
   "source": [
    "import seaborn as sns"
   ]
  },
  {
   "cell_type": "code",
   "execution_count": 62,
   "id": "868df672",
   "metadata": {
    "scrolled": true
   },
   "outputs": [
    {
     "data": {
      "image/png": "[encoded data removed]",
      "text/plain": [
       "<Figure size 640x480 with 1 Axes>"
      ]
     },
     "metadata": {},
     "output_type": "display_data"
    },
    {
     "name": "stdout",
     "output_type": "stream",
     "text": [
      "The best year in terms of movie releases is: 2018\n"
     ]
    }
   ],
   "source": [
    "# Convert 'Year' column to numeric type (in case it's not already)\n",
    "df['Year'] = pd.to_numeric(df['Year'], errors='coerce')\n",
    "\n",
    "# Drop rows with NaN values in the 'Year' column\n",
    "df = df.dropna(subset=['Year'])\n",
    "\n",
    "# Set the style and font for Seaborn\n",
    "sns.set(style=\"darkgrid\", font=\"Calibri\")\n",
    "\n",
    "# Create a line plot for annual movie release counts\n",
    "ax = sns.lineplot(data=df['Year'].value_counts().sort_index(), marker='o')\n",
    "\n",
    "# Set darkgrid positions\n",
    "darkgrid_positions = range(min(df['Year']), max(df['Year']) + 1, 5)\n",
    "\n",
    "# Set plot title and axis labels\n",
    "ax.set_title(\"Annual Movie Release Counts Over Time\")\n",
    "ax.set_xticks(darkgrid_positions)\n",
    "ax.set_xticklabels(labels=darkgrid_positions, rotation=90)\n",
    "ax.set_xlabel(\"Years\")\n",
    "ax.set_ylabel(\"Count\")\n",
    "\n",
    "# Show the plot\n",
    "plt.show()\n",
    "\n",
    "# Identify the year with the highest movie release count\n",
    "best_year = df['Year'].value_counts().idxmax()\n",
    "print(\"The best year in terms of movie releases is:\", int(best_year))"
   ]
  },
  {
   "cell_type": "code",
   "execution_count": 63,
   "id": "2bf38f7b",
   "metadata": {},
   "outputs": [
    {
     "data": {
      "image/png": "[encoded data removed]",
      "text/plain": [
       "<Figure size 1000x600 with 1 Axes>"
      ]
     },
     "metadata": {},
     "output_type": "display_data"
    },
    {
     "name": "stdout",
     "output_type": "stream",
     "text": [
      "The best year in terms of mean rating is: 1934 with a mean rating of 8.5\n"
     ]
    }
   ],
   "source": [
    "# Convert 'Year' column to numeric type (in case it's not already)\n",
    "df['Year'] = pd.to_numeric(df['Year'], errors='coerce')\n",
    "\n",
    "# Drop rows with NaN values in the 'Year' column\n",
    "df = df.dropna(subset=['Year'])\n",
    "\n",
    "# Set the style and font for Seaborn\n",
    "sns.set(style=\"darkgrid\", font=\"Calibri\")\n",
    "\n",
    "# Group the data by \"Year\" and calculate the mean rating for each year\n",
    "mean_ratings = df.groupby('Year')['Rating'].mean().reset_index()\n",
    "\n",
    "# Identify the year with the highest mean rating\n",
    "best_year = mean_ratings.loc[mean_ratings['Rating'].idxmax()]\n",
    "\n",
    "# Create a line plot for the mean rating over the years\n",
    "plt.figure(figsize=(10, 6))\n",
    "ax = sns.lineplot(x='Year', y='Rating', data=mean_ratings, marker='o')\n",
    "\n",
    "# Highlight the point corresponding to the best year\n",
    "ax.scatter(x=best_year['Year'], y=best_year['Rating'], color='red', label=f'Best Year: {int(best_year[\"Year\"])}', zorder=5)\n",
    "\n",
    "# Set plot title and axis labels\n",
    "ax.set_title(\"Mean Rating Over Years\")\n",
    "ax.set_xlabel(\"Year\")\n",
    "ax.set_ylabel(\"Mean Rating\")\n",
    "\n",
    "# Show legend\n",
    "ax.legend()\n",
    "\n",
    "# Show the plot\n",
    "plt.show()\n",
    "\n",
    "# Print information about the best year\n",
    "print(\"The best year in terms of mean rating is:\", int(best_year['Year']), \"with a mean rating of\", best_year['Rating'])"
   ]
  },
  {
   "cell_type": "code",
   "execution_count": 64,
   "id": "120367d6",
   "metadata": {},
   "outputs": [
    {
     "name": "stdout",
     "output_type": "stream",
     "text": [
      "The best movie genre according to the highest voting is: Action, Biography, Drama\n"
     ]
    }
   ],
   "source": [
    "# Group the data by \"Genre\" and calculate the mean voting for each genre\n",
    "mean_voting_by_genre = df.groupby('Genre')['Votes'].mean().reset_index()\n",
    "\n",
    "# Identify the genre with the highest mean voting\n",
    "best_genre = mean_voting_by_genre.loc[mean_voting_by_genre['Votes'].idxmax()]\n",
    "\n",
    "# Print information about the best genre\n",
    "print(\"The best movie genre according to the highest voting is:\", best_genre['Genre'])"
   ]
  },
  {
   "cell_type": "code",
   "execution_count": 65,
   "id": "376af289",
   "metadata": {},
   "outputs": [
    {
     "data": {
      "image/png": "[encoded data removed]",
      "text/plain": [
       "<Figure size 1200x600 with 1 Axes>"
      ]
     },
     "metadata": {},
     "output_type": "display_data"
    }
   ],
   "source": [
    "# Top 10 movies based on Votes\n",
    "top_10_votes = df.nlargest(10, 'Votes')[['Name', 'Votes']]\n",
    "\n",
    "# Top 10 movies based on Rating\n",
    "top_10_rating = df.nlargest(10, 'Rating')[['Name', 'Rating']]\n",
    "\n",
    "# Set the style and font for Seaborn\n",
    "sns.set(style=\"darkgrid\", font=\"Calibri\")\n",
    "\n",
    "# Plotting bar chart for the top 10 movies based on Votes\n",
    "plt.figure(figsize=(12, 6))\n",
    "sns.barplot(x='Votes', y='Name', data=top_10_votes, ci=None)\n",
    "plt.title('Top 10 Movies Based on Votes')\n",
    "plt.xlabel('Votes')\n",
    "plt.ylabel('Name')\n",
    "plt.show()\n",
    "\n"
   ]
  },
  {
   "cell_type": "code",
   "execution_count": 66,
   "id": "28c08722",
   "metadata": {},
   "outputs": [
    {
     "data": {
      "image/png": "[encoded data removed]",
      "text/plain": [
       "<Figure size 1200x600 with 1 Axes>"
      ]
     },
     "metadata": {},
     "output_type": "display_data"
    }
   ],
   "source": [
    "# Plotting bar chart for the top 10 movies based on Rating\n",
    "plt.figure(figsize=(12, 6))\n",
    "sns.barplot(x='Rating', y='Name', data=top_10_rating, ci=None)\n",
    "plt.title('Top 10 Movies Based on Rating')\n",
    "plt.xlabel('Rating')\n",
    "plt.ylabel('Name')\n",
    "plt.show()"
   ]
  },
  {
   "cell_type": "code",
   "execution_count": 67,
   "id": "fbaa6f36",
   "metadata": {},
   "outputs": [
    {
     "data": {
      "image/png": "[encoded data removed]",
      "text/plain": [
       "<Figure size 1500x600 with 1 Axes>"
      ]
     },
     "metadata": {},
     "output_type": "display_data"
    }
   ],
   "source": [
    "# Assuming 'Year' and 'Name' are the relevant columns\n",
    "# Replace with the actual column names from your dataset\n",
    "movie_counts_per_year = df.groupby('Year')['Name'].nunique().reset_index()\n",
    "\n",
    "# Filter data for the last 30 years\n",
    "last_30_years = movie_counts_per_year[movie_counts_per_year['Year'] >= max(movie_counts_per_year['Year']) - 29]\n",
    "\n",
    "# Set the style and font for Seaborn\n",
    "sns.set(style=\"darkgrid\", font=\"Calibri\")\n",
    "\n",
    "# Plotting bar chart for the number of unique movie names released in the last 30 years\n",
    "plt.figure(figsize=(15, 6))  # Adjust figure size as needed\n",
    "ax = sns.barplot(x='Year', y='Name', data=last_30_years, ci=None, color='steelblue')  # Single color (steelblue)\n",
    "plt.title('Number of Unique Movie Names Released in the Last 30 Years')\n",
    "plt.xlabel('Year')\n",
    "plt.ylabel('Number of Unique Movie Names')\n",
    "\n",
    "# Rotate x-axis labels for better readability\n",
    "ax.set_xticklabels(ax.get_xticklabels(), rotation=45, ha='right')\n",
    "\n",
    "plt.show()"
   ]
  },
  {
   "cell_type": "code",
   "execution_count": 68,
   "id": "d012ff62",
   "metadata": {},
   "outputs": [
    {
     "ename": "NameError",
     "evalue": "name 'most_marked_up_director' is not defined",
     "output_type": "error",
     "traceback": [
      "\u001b[1;31m---------------------------------------------------------------------------\u001b[0m",
      "\u001b[1;31mNameError\u001b[0m                                 Traceback (most recent call last)",
      "\u001b[1;32m~\\AppData\\Local\\Temp\\ipykernel_29352\\777643798.py\u001b[0m in \u001b[0;36m<module>\u001b[1;34m\u001b[0m\n\u001b[0;32m      1\u001b[0m \u001b[1;31m# Display the director with the most marked-up names\u001b[0m\u001b[1;33m\u001b[0m\u001b[1;33m\u001b[0m\u001b[0m\n\u001b[1;32m----> 2\u001b[1;33m \u001b[0mprint\u001b[0m\u001b[1;33m(\u001b[0m\u001b[1;34mf\"The director with the most marked-up names is: {most_marked_up_director['Director']} with {most_marked_up_director['Count']} names.\"\u001b[0m\u001b[1;33m)\u001b[0m\u001b[1;33m\u001b[0m\u001b[1;33m\u001b[0m\u001b[0m\n\u001b[0m",
      "\u001b[1;31mNameError\u001b[0m: name 'most_marked_up_director' is not defined"
     ]
    }
   ],
   "source": [
    "# Display the director with the most marked-up names\n",
    "print(f\"The director with the most marked-up names is: {most_marked_up_director['Director']} with {most_marked_up_director['Count']} names.\")"
   ]
  },
  {
   "cell_type": "code",
   "execution_count": 69,
   "id": "11a70c30",
   "metadata": {},
   "outputs": [
    {
     "data": {
      "image/png": "[encoded data removed]",
      "text/plain": [
       "<Figure size 1200x600 with 1 Axes>"
      ]
     },
     "metadata": {},
     "output_type": "display_data"
    }
   ],
   "source": [
    "# Assuming 'Rating' is the relevant column\n",
    "# Replace with the actual column name from your dataset\n",
    "sns.set(style=\"darkgrid\", font=\"Calibri\")\n",
    "\n",
    "# Plotting histogram with kernel density estimate\n",
    "plt.figure(figsize=(12, 6))\n",
    "ax = sns.histplot(df['Rating'], bins=20, kde=True, color='steelblue', edgecolor='black')\n",
    "plt.title('Distribution of Movie Ratings with Kernel Density Estimate')\n",
    "plt.xlabel('Rating')\n",
    "plt.ylabel('Frequency')\n",
    "\n",
    "plt.show()"
   ]
  },
  {
   "cell_type": "code",
   "execution_count": 70,
   "id": "d858002d",
   "metadata": {},
   "outputs": [
    {
     "data": {
      "image/png": "[encoded data removed]",
      "text/plain": [
       "<Figure size 1200x600 with 1 Axes>"
      ]
     },
     "metadata": {},
     "output_type": "display_data"
    },
    {
     "name": "stdout",
     "output_type": "stream",
     "text": [
      "Top 20 most frequently appearing actors:\n",
      "                 index  Frequency\n",
      "0     Amitabh Bachchan         77\n",
      "1   Mithun Chakraborty         70\n",
      "2           Dharmendra         60\n",
      "3          Ashok Kumar         53\n",
      "4          Sanjay Dutt         53\n",
      "5            Jeetendra         53\n",
      "6           Ajay Devgn         53\n",
      "7        Sanjeev Kumar         47\n",
      "8        Shashi Kapoor         46\n",
      "9     Naseeruddin Shah         46\n",
      "10       Rajesh Khanna         44\n",
      "11        Akshay Kumar         43\n",
      "12         Anil Kapoor         39\n",
      "13       Jackie Shroff         37\n",
      "14          Sunny Deol         37\n",
      "15        Shabana Azmi         36\n",
      "16               Rekha         36\n",
      "17        Vinod Khanna         35\n",
      "18         Dilip Kumar         33\n",
      "19    Shatrughan Sinha         33\n"
     ]
    }
   ],
   "source": [
    "# Assuming 'Actor 1', 'Actor 2', 'Actor 3', and 'Names' are the relevant columns\n",
    "# Replace with the actual column names from your dataset\n",
    "actors_columns = ['Actor 1', 'Actor 2', 'Actor 3']\n",
    "actors_df = df[actors_columns].stack().reset_index(drop=True).rename('Actor')\n",
    "\n",
    "# Count the occurrences of each actor\n",
    "top_actors = actors_df.value_counts().head(20).reset_index(name='Frequency')\n",
    "\n",
    "# Set the style and font for Seaborn\n",
    "sns.set(style=\"darkgrid\", font=\"Calibri\")\n",
    "\n",
    "# Plotting bar chart for the top 20 actors\n",
    "plt.figure(figsize=(12, 6))\n",
    "ax = sns.barplot(x='Frequency', y='index', data=top_actors, ci=None, color='steelblue')  # Single color (steelblue)\n",
    "plt.title('Top 20 Most Frequently Appearing Actors')\n",
    "plt.xlabel('Frequency')\n",
    "plt.ylabel('Actor')\n",
    "\n",
    "# Rotate y-axis labels for better readability\n",
    "ax.set_yticklabels(ax.get_yticklabels(), rotation=0, ha='right')\n",
    "\n",
    "plt.show()\n",
    "\n",
    "# Display the top 20 actors\n",
    "print(\"Top 20 most frequently appearing actors:\")\n",
    "print(top_actors)"
   ]
  },
  {
   "cell_type": "code",
   "execution_count": 71,
   "id": "da73fd31",
   "metadata": {},
   "outputs": [
    {
     "name": "stdout",
     "output_type": "stream",
     "text": [
      "Number of unique names in Actor 1, Actor 2, Actor 3: 2288\n"
     ]
    }
   ],
   "source": [
    "# Assuming 'Actor 1', 'Actor 2', and 'Actor 3' are the relevant columns\n",
    "# Replace with the actual column names from your dataset\n",
    "actor_columns = ['Actor 1', 'Actor 2', 'Actor 3']\n",
    "\n",
    "# Combine the values from all three columns into a single Series\n",
    "all_actors_series = df[actor_columns].stack()\n",
    "\n",
    "# Count the number of unique names\n",
    "unique_names_count = all_actors_series.nunique()\n",
    "\n",
    "print(f\"Number of unique names in {', '.join(actor_columns)}: {unique_names_count}\")"
   ]
  },
  {
   "cell_type": "code",
   "execution_count": 72,
   "id": "aa5cf35d",
   "metadata": {},
   "outputs": [
    {
     "name": "stdout",
     "output_type": "stream",
     "text": [
      "186                              Ashok Kumar, Vimi, Rehman\n",
      "192         Deeya Dey, Anoma Pabuwal, Mahendra Singh Rawat\n",
      "199      Vineet Kumar Singh, Saurabh Shukla, Raghuvir Y...\n",
      "201             Dolly Ahluwalia, Raja Bundela, Neena Gupta\n",
      "212               Dilip Kumar, Waheeda Rehman, Manoj Kumar\n",
      "                               ...                        \n",
      "15488       Shashank Arora, Prince Daniel, Shatakshi Gupta\n",
      "15492                   Navin Nischol, Rekha, Urmila Bhatt\n",
      "15493     Vicky Kaushal, Sarah Jane Dias, Raaghavv Chanana\n",
      "15494                Karisma Kapoor, Rekha, Manoj Bajpayee\n",
      "15505            Akshay Kumar, Twinkle Khanna, Aruna Irani\n",
      "Name: Actor, Length: 2140, dtype: object\n"
     ]
    }
   ],
   "source": [
    "df[\"Actor\"] = df['Actor 1'] + ', ' + df['Actor 2'] + ', ' + df['Actor 3']\n",
    "print(df[\"Actor\"])"
   ]
  },
  {
   "cell_type": "code",
   "execution_count": 109,
   "id": "5424637d",
   "metadata": {},
   "outputs": [],
   "source": [
    "df.to_excel('my_data.xlsx', index=False)  # index=False to exclude the DataFrame index\n"
   ]
  },
  {
   "cell_type": "code",
   "execution_count": 75,
   "id": "691ffdaa",
   "metadata": {},
   "outputs": [],
   "source": [
    "Input = df.drop(['Name', 'Genre', 'Rating', 'Director', 'Actor 1', 'Actor 2', 'Actor 3'], axis=1)\n",
    "Output = df['Rating']"
   ]
  },
  {
   "cell_type": "code",
   "execution_count": 78,
   "id": "41b1ba0d",
   "metadata": {},
   "outputs": [],
   "source": [
    "from sklearn.preprocessing import OneHotEncoder\n",
    "# One-hot encode categorical features\n",
    "categorical_features = ['Genre', 'Director','Actor 1','Actor 2','Actor 3']\n",
    "encoder = OneHotEncoder(sparse=False, handle_unknown='ignore')\n",
    "encoded_categorical_features = pd.DataFrame(encoder.fit_transform(df[categorical_features]))\n",
    "\n",
    "# Combine encoded categorical features with numeric features\n",
    "Input = pd.concat([Input, encoded_categorical_features], axis=1)"
   ]
  },
  {
   "cell_type": "code",
   "execution_count": 79,
   "id": "4f5679cc",
   "metadata": {},
   "outputs": [
    {
     "data": {
      "text/html": [
       "<div>\n",
       "<style scoped>\n",
       "    .dataframe tbody tr th:only-of-type {\n",
       "        vertical-align: middle;\n",
       "    }\n",
       "\n",
       "    .dataframe tbody tr th {\n",
       "        vertical-align: top;\n",
       "    }\n",
       "\n",
       "    .dataframe thead th {\n",
       "        text-align: right;\n",
       "    }\n",
       "</style>\n",
       "<table border=\"1\" class=\"dataframe\">\n",
       "  <thead>\n",
       "    <tr style=\"text-align: right;\">\n",
       "      <th></th>\n",
       "      <th>Year</th>\n",
       "      <th>Duration</th>\n",
       "      <th>Votes</th>\n",
       "      <th>Genre1</th>\n",
       "      <th>Genre2</th>\n",
       "      <th>Genre3</th>\n",
       "      <th>Actor</th>\n",
       "      <th>0</th>\n",
       "      <th>1</th>\n",
       "      <th>2</th>\n",
       "      <th>...</th>\n",
       "      <th>4427</th>\n",
       "      <th>4428</th>\n",
       "      <th>4429</th>\n",
       "      <th>4430</th>\n",
       "      <th>4431</th>\n",
       "      <th>4432</th>\n",
       "      <th>4433</th>\n",
       "      <th>4434</th>\n",
       "      <th>4435</th>\n",
       "      <th>4436</th>\n",
       "    </tr>\n",
       "  </thead>\n",
       "  <tbody>\n",
       "    <tr>\n",
       "      <th>186</th>\n",
       "      <td>1968.0</td>\n",
       "      <td>170</td>\n",
       "      <td>21.0</td>\n",
       "      <td>Comedy</td>\n",
       "      <td>Crime</td>\n",
       "      <td>Drama</td>\n",
       "      <td>Ashok Kumar, Vimi, Rehman</td>\n",
       "      <td>0.0</td>\n",
       "      <td>0.0</td>\n",
       "      <td>0.0</td>\n",
       "      <td>...</td>\n",
       "      <td>0.0</td>\n",
       "      <td>0.0</td>\n",
       "      <td>0.0</td>\n",
       "      <td>0.0</td>\n",
       "      <td>0.0</td>\n",
       "      <td>0.0</td>\n",
       "      <td>0.0</td>\n",
       "      <td>0.0</td>\n",
       "      <td>0.0</td>\n",
       "      <td>0.0</td>\n",
       "    </tr>\n",
       "    <tr>\n",
       "      <th>192</th>\n",
       "      <td>2018.0</td>\n",
       "      <td>72</td>\n",
       "      <td>150.0</td>\n",
       "      <td>Horror</td>\n",
       "      <td>None</td>\n",
       "      <td>None</td>\n",
       "      <td>Deeya Dey, Anoma Pabuwal, Mahendra Singh Rawat</td>\n",
       "      <td>0.0</td>\n",
       "      <td>0.0</td>\n",
       "      <td>0.0</td>\n",
       "      <td>...</td>\n",
       "      <td>0.0</td>\n",
       "      <td>0.0</td>\n",
       "      <td>0.0</td>\n",
       "      <td>0.0</td>\n",
       "      <td>0.0</td>\n",
       "      <td>0.0</td>\n",
       "      <td>0.0</td>\n",
       "      <td>0.0</td>\n",
       "      <td>0.0</td>\n",
       "      <td>0.0</td>\n",
       "    </tr>\n",
       "    <tr>\n",
       "      <th>199</th>\n",
       "      <td>2019.0</td>\n",
       "      <td>107</td>\n",
       "      <td>69.0</td>\n",
       "      <td>Drama</td>\n",
       "      <td>None</td>\n",
       "      <td>None</td>\n",
       "      <td>Vineet Kumar Singh, Saurabh Shukla, Raghuvir Y...</td>\n",
       "      <td>0.0</td>\n",
       "      <td>0.0</td>\n",
       "      <td>0.0</td>\n",
       "      <td>...</td>\n",
       "      <td>0.0</td>\n",
       "      <td>0.0</td>\n",
       "      <td>0.0</td>\n",
       "      <td>0.0</td>\n",
       "      <td>0.0</td>\n",
       "      <td>0.0</td>\n",
       "      <td>0.0</td>\n",
       "      <td>0.0</td>\n",
       "      <td>0.0</td>\n",
       "      <td>0.0</td>\n",
       "    </tr>\n",
       "    <tr>\n",
       "      <th>201</th>\n",
       "      <td>1982.0</td>\n",
       "      <td>154</td>\n",
       "      <td>19.0</td>\n",
       "      <td>Drama</td>\n",
       "      <td>None</td>\n",
       "      <td>None</td>\n",
       "      <td>Dolly Ahluwalia, Raja Bundela, Neena Gupta</td>\n",
       "      <td>0.0</td>\n",
       "      <td>0.0</td>\n",
       "      <td>0.0</td>\n",
       "      <td>...</td>\n",
       "      <td>0.0</td>\n",
       "      <td>0.0</td>\n",
       "      <td>0.0</td>\n",
       "      <td>0.0</td>\n",
       "      <td>0.0</td>\n",
       "      <td>0.0</td>\n",
       "      <td>0.0</td>\n",
       "      <td>0.0</td>\n",
       "      <td>0.0</td>\n",
       "      <td>0.0</td>\n",
       "    </tr>\n",
       "    <tr>\n",
       "      <th>212</th>\n",
       "      <td>1968.0</td>\n",
       "      <td>175</td>\n",
       "      <td>196.0</td>\n",
       "      <td>Drama</td>\n",
       "      <td>Romance</td>\n",
       "      <td>None</td>\n",
       "      <td>Dilip Kumar, Waheeda Rehman, Manoj Kumar</td>\n",
       "      <td>0.0</td>\n",
       "      <td>0.0</td>\n",
       "      <td>0.0</td>\n",
       "      <td>...</td>\n",
       "      <td>0.0</td>\n",
       "      <td>0.0</td>\n",
       "      <td>0.0</td>\n",
       "      <td>0.0</td>\n",
       "      <td>0.0</td>\n",
       "      <td>0.0</td>\n",
       "      <td>0.0</td>\n",
       "      <td>0.0</td>\n",
       "      <td>0.0</td>\n",
       "      <td>0.0</td>\n",
       "    </tr>\n",
       "    <tr>\n",
       "      <th>213</th>\n",
       "      <td>1993.0</td>\n",
       "      <td>153</td>\n",
       "      <td>97.0</td>\n",
       "      <td>Action</td>\n",
       "      <td>Crime</td>\n",
       "      <td>Drama</td>\n",
       "      <td>Ajit, Vikas Anand, Arjun</td>\n",
       "      <td>0.0</td>\n",
       "      <td>0.0</td>\n",
       "      <td>0.0</td>\n",
       "      <td>...</td>\n",
       "      <td>0.0</td>\n",
       "      <td>0.0</td>\n",
       "      <td>0.0</td>\n",
       "      <td>0.0</td>\n",
       "      <td>0.0</td>\n",
       "      <td>0.0</td>\n",
       "      <td>0.0</td>\n",
       "      <td>0.0</td>\n",
       "      <td>0.0</td>\n",
       "      <td>0.0</td>\n",
       "    </tr>\n",
       "    <tr>\n",
       "      <th>220</th>\n",
       "      <td>2016.0</td>\n",
       "      <td>145</td>\n",
       "      <td>266.0</td>\n",
       "      <td>Horror</td>\n",
       "      <td>None</td>\n",
       "      <td>None</td>\n",
       "      <td>Jayaram, Ramya Krishnan, Om Puri</td>\n",
       "      <td>0.0</td>\n",
       "      <td>0.0</td>\n",
       "      <td>0.0</td>\n",
       "      <td>...</td>\n",
       "      <td>0.0</td>\n",
       "      <td>0.0</td>\n",
       "      <td>0.0</td>\n",
       "      <td>0.0</td>\n",
       "      <td>0.0</td>\n",
       "      <td>0.0</td>\n",
       "      <td>0.0</td>\n",
       "      <td>0.0</td>\n",
       "      <td>0.0</td>\n",
       "      <td>0.0</td>\n",
       "    </tr>\n",
       "    <tr>\n",
       "      <th>221</th>\n",
       "      <td>1977.0</td>\n",
       "      <td>148</td>\n",
       "      <td>17.0</td>\n",
       "      <td>Crime</td>\n",
       "      <td>Drama</td>\n",
       "      <td>None</td>\n",
       "      <td>Navin Nischol, Leena Chandavarkar, Jayshree T.</td>\n",
       "      <td>0.0</td>\n",
       "      <td>0.0</td>\n",
       "      <td>0.0</td>\n",
       "      <td>...</td>\n",
       "      <td>0.0</td>\n",
       "      <td>0.0</td>\n",
       "      <td>0.0</td>\n",
       "      <td>0.0</td>\n",
       "      <td>0.0</td>\n",
       "      <td>0.0</td>\n",
       "      <td>0.0</td>\n",
       "      <td>0.0</td>\n",
       "      <td>0.0</td>\n",
       "      <td>0.0</td>\n",
       "    </tr>\n",
       "    <tr>\n",
       "      <th>224</th>\n",
       "      <td>1948.0</td>\n",
       "      <td>138</td>\n",
       "      <td>357.0</td>\n",
       "      <td>Musical</td>\n",
       "      <td>Romance</td>\n",
       "      <td>None</td>\n",
       "      <td>Nargis, Kamini Kaushal, Nigar Sultana</td>\n",
       "      <td>0.0</td>\n",
       "      <td>0.0</td>\n",
       "      <td>0.0</td>\n",
       "      <td>...</td>\n",
       "      <td>0.0</td>\n",
       "      <td>0.0</td>\n",
       "      <td>0.0</td>\n",
       "      <td>0.0</td>\n",
       "      <td>0.0</td>\n",
       "      <td>0.0</td>\n",
       "      <td>0.0</td>\n",
       "      <td>0.0</td>\n",
       "      <td>0.0</td>\n",
       "      <td>0.0</td>\n",
       "    </tr>\n",
       "    <tr>\n",
       "      <th>226</th>\n",
       "      <td>1994.0</td>\n",
       "      <td>139</td>\n",
       "      <td>227.0</td>\n",
       "      <td>Action</td>\n",
       "      <td>Comedy</td>\n",
       "      <td>Drama</td>\n",
       "      <td>Govinda, Shilpa Shetty Kundra, Sonali Bendre</td>\n",
       "      <td>0.0</td>\n",
       "      <td>0.0</td>\n",
       "      <td>0.0</td>\n",
       "      <td>...</td>\n",
       "      <td>0.0</td>\n",
       "      <td>0.0</td>\n",
       "      <td>0.0</td>\n",
       "      <td>0.0</td>\n",
       "      <td>0.0</td>\n",
       "      <td>0.0</td>\n",
       "      <td>0.0</td>\n",
       "      <td>0.0</td>\n",
       "      <td>0.0</td>\n",
       "      <td>0.0</td>\n",
       "    </tr>\n",
       "  </tbody>\n",
       "</table>\n",
       "<p>10 rows × 4444 columns</p>\n",
       "</div>"
      ],
      "text/plain": [
       "       Year Duration  Votes   Genre1    Genre2  Genre3  \\\n",
       "186  1968.0     170    21.0   Comedy     Crime   Drama   \n",
       "192  2018.0      72   150.0   Horror      None    None   \n",
       "199  2019.0     107    69.0    Drama      None    None   \n",
       "201  1982.0     154    19.0    Drama      None    None   \n",
       "212  1968.0     175   196.0    Drama   Romance    None   \n",
       "213  1993.0     153    97.0   Action     Crime   Drama   \n",
       "220  2016.0     145   266.0   Horror      None    None   \n",
       "221  1977.0     148    17.0    Crime     Drama    None   \n",
       "224  1948.0     138   357.0  Musical   Romance    None   \n",
       "226  1994.0     139   227.0   Action    Comedy   Drama   \n",
       "\n",
       "                                                 Actor    0    1    2  ...  \\\n",
       "186                          Ashok Kumar, Vimi, Rehman  0.0  0.0  0.0  ...   \n",
       "192     Deeya Dey, Anoma Pabuwal, Mahendra Singh Rawat  0.0  0.0  0.0  ...   \n",
       "199  Vineet Kumar Singh, Saurabh Shukla, Raghuvir Y...  0.0  0.0  0.0  ...   \n",
       "201         Dolly Ahluwalia, Raja Bundela, Neena Gupta  0.0  0.0  0.0  ...   \n",
       "212           Dilip Kumar, Waheeda Rehman, Manoj Kumar  0.0  0.0  0.0  ...   \n",
       "213                           Ajit, Vikas Anand, Arjun  0.0  0.0  0.0  ...   \n",
       "220                   Jayaram, Ramya Krishnan, Om Puri  0.0  0.0  0.0  ...   \n",
       "221     Navin Nischol, Leena Chandavarkar, Jayshree T.  0.0  0.0  0.0  ...   \n",
       "224              Nargis, Kamini Kaushal, Nigar Sultana  0.0  0.0  0.0  ...   \n",
       "226       Govinda, Shilpa Shetty Kundra, Sonali Bendre  0.0  0.0  0.0  ...   \n",
       "\n",
       "     4427  4428  4429  4430  4431  4432  4433  4434  4435  4436  \n",
       "186   0.0   0.0   0.0   0.0   0.0   0.0   0.0   0.0   0.0   0.0  \n",
       "192   0.0   0.0   0.0   0.0   0.0   0.0   0.0   0.0   0.0   0.0  \n",
       "199   0.0   0.0   0.0   0.0   0.0   0.0   0.0   0.0   0.0   0.0  \n",
       "201   0.0   0.0   0.0   0.0   0.0   0.0   0.0   0.0   0.0   0.0  \n",
       "212   0.0   0.0   0.0   0.0   0.0   0.0   0.0   0.0   0.0   0.0  \n",
       "213   0.0   0.0   0.0   0.0   0.0   0.0   0.0   0.0   0.0   0.0  \n",
       "220   0.0   0.0   0.0   0.0   0.0   0.0   0.0   0.0   0.0   0.0  \n",
       "221   0.0   0.0   0.0   0.0   0.0   0.0   0.0   0.0   0.0   0.0  \n",
       "224   0.0   0.0   0.0   0.0   0.0   0.0   0.0   0.0   0.0   0.0  \n",
       "226   0.0   0.0   0.0   0.0   0.0   0.0   0.0   0.0   0.0   0.0  \n",
       "\n",
       "[10 rows x 4444 columns]"
      ]
     },
     "execution_count": 79,
     "metadata": {},
     "output_type": "execute_result"
    }
   ],
   "source": [
    "Input.head(10)"
   ]
  },
  {
   "cell_type": "code",
   "execution_count": 80,
   "id": "b6980337",
   "metadata": {},
   "outputs": [
    {
     "data": {
      "text/plain": [
       "186    5.5\n",
       "192    7.4\n",
       "199    7.6\n",
       "201    6.4\n",
       "212    6.8\n",
       "213    6.5\n",
       "220    4.2\n",
       "221    5.3\n",
       "224    7.4\n",
       "226    4.6\n",
       "Name: Rating, dtype: float64"
      ]
     },
     "execution_count": 80,
     "metadata": {},
     "output_type": "execute_result"
    }
   ],
   "source": [
    "Output.head(10)"
   ]
  },
  {
   "cell_type": "code",
   "execution_count": 90,
   "id": "c178063f",
   "metadata": {},
   "outputs": [
    {
     "name": "stdout",
     "output_type": "stream",
     "text": [
      "Input samples: 3950\n",
      "Output samples: 2140\n"
     ]
    }
   ],
   "source": [
    "print(\"Input samples:\", Input.shape[0])\n",
    "print(\"Output samples:\", Output.shape[0])"
   ]
  },
  {
   "cell_type": "code",
   "execution_count": 92,
   "id": "4a295566",
   "metadata": {},
   "outputs": [],
   "source": [
    "from sklearn.model_selection import train_test_split\n",
    "\n",
    "# Align Input and Output (choose a strategy based on your data)\n",
    "# For instance, if Output has missing values, you might need to drop those from Input\n",
    "aligned_length = min(Input.shape[0], Output.shape[0])\n",
    "Input_aligned = Input.head(aligned_length)\n",
    "Output_aligned = Output.head(aligned_length)\n",
    "\n",
    "# Now split the data\n",
    "x_train, x_test, y_train, y_test = train_test_split(Input_aligned, Output_aligned, test_size=0.2, random_state=1)\n",
    "\n"
   ]
  },
  {
   "cell_type": "code",
   "execution_count": 94,
   "id": "c9a9b1ba",
   "metadata": {},
   "outputs": [
    {
     "name": "stdout",
     "output_type": "stream",
     "text": [
      "After Splitting:\n",
      "Train samples: 1712 1712\n",
      "Test samples: 428 428\n"
     ]
    }
   ],
   "source": [
    "print(\"After Splitting:\")\n",
    "print(\"Train samples:\", len(x_train), len(y_train))\n",
    "print(\"Test samples:\", len(x_test), len(y_test))"
   ]
  },
  {
   "cell_type": "code",
   "execution_count": 128,
   "id": "75193d8c",
   "metadata": {},
   "outputs": [],
   "source": [
    "import pandas as pd\n",
    "from sklearn.model_selection import train_test_split\n",
    "from sklearn.preprocessing import OneHotEncoder\n",
    "from sklearn.compose import ColumnTransformer\n",
    "from sklearn.pipeline import Pipeline\n",
    "from sklearn.linear_model import LinearRegression\n",
    "from sklearn.metrics import mean_squared_error, r2_score"
   ]
  },
  {
   "cell_type": "code",
   "execution_count": 130,
   "id": "bb5f9d79",
   "metadata": {},
   "outputs": [
    {
     "name": "stdout",
     "output_type": "stream",
     "text": [
      "Name         object\n",
      "Year          int64\n",
      "Duration     object\n",
      "Genre        object\n",
      "Rating      float64\n",
      "Votes         int32\n",
      "Director     object\n",
      "Actor 1      object\n",
      "Actor 2      object\n",
      "Actor 3      object\n",
      "Genre1       object\n",
      "Genre2       object\n",
      "Genre3       object\n",
      "Actor        object\n",
      "dtype: object\n",
      "            Name  Year Duration                 Genre  Rating  Votes  \\\n",
      "186       Aabroo  1968     170   Comedy, Crime, Drama     5.5     21   \n",
      "192    Aadamkhor  2018      72                 Horror     7.4    150   \n",
      "199      Aadhaar  2019     107                  Drama     7.6     69   \n",
      "201  Aadharshila  1982     154                  Drama     6.4     19   \n",
      "212        Aadmi  1968     175         Drama, Romance     6.8    196   \n",
      "\n",
      "           Director             Actor 1         Actor 2               Actor 3  \\\n",
      "186      C.L. Rawal         Ashok Kumar            Vimi                Rehman   \n",
      "192  Kshitij Sharma           Deeya Dey   Anoma Pabuwal  Mahendra Singh Rawat   \n",
      "199     Suman Ghosh  Vineet Kumar Singh  Saurabh Shukla        Raghuvir Yadav   \n",
      "201     Ashok Ahuja     Dolly Ahluwalia    Raja Bundela           Neena Gupta   \n",
      "212    A. Bhimsingh         Dilip Kumar  Waheeda Rehman           Manoj Kumar   \n",
      "\n",
      "     Genre1    Genre2  Genre3  \\\n",
      "186  Comedy     Crime   Drama   \n",
      "192  Horror      None    None   \n",
      "199   Drama      None    None   \n",
      "201   Drama      None    None   \n",
      "212   Drama   Romance    None   \n",
      "\n",
      "                                                 Actor  \n",
      "186                          Ashok Kumar, Vimi, Rehman  \n",
      "192     Deeya Dey, Anoma Pabuwal, Mahendra Singh Rawat  \n",
      "199  Vineet Kumar Singh, Saurabh Shukla, Raghuvir Y...  \n",
      "201         Dolly Ahluwalia, Raja Bundela, Neena Gupta  \n",
      "212           Dilip Kumar, Waheeda Rehman, Manoj Kumar  \n"
     ]
    }
   ],
   "source": [
    "# Inspecting data types and the first few rows\n",
    "print(df.dtypes)\n",
    "print(df.head())\n",
    "\n",
    "# Convert integer-encoded categorical columns to strings\n",
    "categorical_features = ['Genre1', 'Genre2', 'Genre3', 'Director', 'Actor']\n",
    "for col in categorical_features:\n",
    "    df[col] = df[col].astype(str)"
   ]
  },
  {
   "cell_type": "code",
   "execution_count": 132,
   "id": "b417aea7",
   "metadata": {},
   "outputs": [],
   "source": [
    "# Selecting relevant features and target variable\n",
    "features = df[['Year', 'Duration', 'Votes'] + categorical_features]\n",
    "target = df['Rating']\n",
    "\n",
    "# Splitting the data into training and test sets\n",
    "X_train, X_test, y_train, y_test = train_test_split(features, target, test_size=0.2, random_state=0)\n"
   ]
  },
  {
   "cell_type": "code",
   "execution_count": 133,
   "id": "21a3f72c",
   "metadata": {},
   "outputs": [],
   "source": [
    "# Handling categorical variables with OneHotEncoder\n",
    "one_hot_encoder = OneHotEncoder(handle_unknown='ignore')\n",
    "\n",
    "# Creating a ColumnTransformer to transform categorical columns\n",
    "preprocessor = ColumnTransformer(\n",
    "    transformers=[\n",
    "        ('cat', one_hot_encoder, categorical_features)\n",
    "    ], remainder='passthrough')\n",
    "\n",
    "# Defining a simple model\n",
    "model = Pipeline(steps=[\n",
    "    ('preprocessor', preprocessor),\n",
    "    ('regressor', LinearRegression())\n",
    "])"
   ]
  },
  {
   "cell_type": "code",
   "execution_count": 134,
   "id": "48d32a89",
   "metadata": {},
   "outputs": [
    {
     "name": "stdout",
     "output_type": "stream",
     "text": [
      "RMSE: 1.2744150264253606\n",
      "R2: 0.10128938465813375\n"
     ]
    }
   ],
   "source": [
    "# Training the model\n",
    "model.fit(X_train, y_train)\n",
    "\n",
    "# Predicting and evaluating\n",
    "y_pred = model.predict(X_test)\n",
    "rmse = np.sqrt(mean_squared_error(y_test, y_pred))\n",
    "r2 = r2_score(y_test, y_pred)\n",
    "\n",
    "# Displaying the performance\n",
    "print('RMSE:', rmse)\n",
    "print('R2:', r2)"
   ]
  },
  {
   "cell_type": "code",
   "execution_count": 135,
   "id": "41088430",
   "metadata": {},
   "outputs": [
    {
     "name": "stdout",
     "output_type": "stream",
     "text": [
      "       Actual  Predicted\n",
      "11745     5.0   5.355305\n",
      "1216      6.5   5.696076\n",
      "7454      6.8   5.733069\n",
      "11951     7.4   7.278072\n",
      "8486      7.6   5.699881\n"
     ]
    }
   ],
   "source": [
    "# Comparing actual and predicted values\n",
    "comparison_df = pd.DataFrame({'Actual': y_test, 'Predicted': y_pred})\n",
    "print(comparison_df.head())"
   ]
  },
  {
   "cell_type": "code",
   "execution_count": null,
   "id": "ff252d3e",
   "metadata": {},
   "outputs": [],
   "source": []
  },
  {
   "cell_type": "code",
   "execution_count": 137,
   "id": "7ddc5fdf",
   "metadata": {},
   "outputs": [
    {
     "name": "stdout",
     "output_type": "stream",
     "text": [
      "Enter the movie name: hhh\n",
      "Enter the movie's release year: 2018\n",
      "Enter the movie's duration (in minutes): 200\n",
      "Enter the number of votes for the movie: 200\n",
      "Enter the primary genre: action\n",
      "Enter the secondary genre: NAN\n",
      "Enter the tertiary genre: NAN\n",
      "Enter the director's name: James Cameron\n",
      "Enter the lead actor's name: Roronoa Zoro\n",
      "Predicted Rating for 'hhh': 5.29\n"
     ]
    }
   ],
   "source": [
    "import numpy as np\n",
    "\n",
    "# ... (previous code) ...\n",
    "\n",
    "# Input from the user\n",
    "movie_name = input(\"Enter the movie name: \")\n",
    "year = int(input(\"Enter the movie's release year: \"))\n",
    "duration = int(input(\"Enter the movie's duration (in minutes): \"))\n",
    "votes = int(input(\"Enter the number of votes for the movie: \"))\n",
    "genre1 = input(\"Enter the primary genre: \")\n",
    "genre2 = input(\"Enter the secondary genre: \")\n",
    "genre3 = input(\"Enter the tertiary genre: \")\n",
    "director = input(\"Enter the director's name: \")\n",
    "actor = input(\"Enter the lead actor's name: \")\n",
    "\n",
    "# Create a DataFrame with user input\n",
    "new_data = pd.DataFrame({\n",
    "    'Year': [year],\n",
    "    'Duration': [duration],\n",
    "    'Votes': [votes],\n",
    "    'Genre1': [genre1],\n",
    "    'Genre2': [genre2],\n",
    "    'Genre3': [genre3],\n",
    "    'Director': [director],\n",
    "    'Actor': [actor]\n",
    "})\n",
    "\n",
    "# Convert integer-encoded categorical columns to strings\n",
    "categorical_features = ['Genre1', 'Genre2', 'Genre3', 'Director', 'Actor']\n",
    "for col in categorical_features:\n",
    "    new_data[col] = new_data[col].astype(str)\n",
    "\n",
    "# Use the loaded model to make predictions on the user's input\n",
    "predicted_rating = model.predict(new_data)\n",
    "\n",
    "# Display the predicted rating for the movie\n",
    "print(f\"Predicted Rating for '{movie_name}': {predicted_rating[0]:.2f}\")\n"
   ]
  },
  {
   "cell_type": "code",
   "execution_count": 139,
   "id": "cb40f278",
   "metadata": {},
   "outputs": [
    {
     "name": "stdout",
     "output_type": "stream",
     "text": [
      "Predicted Rating for 'hhh': 5.29\n",
      "Model Accuracy on Test Set: 10.13%\n"
     ]
    }
   ],
   "source": []
  },
  {
   "cell_type": "code",
   "execution_count": null,
   "id": "a278a964",
   "metadata": {
    "scrolled": true
   },
   "outputs": [],
   "source": []
  },
  {
   "cell_type": "code",
   "execution_count": null,
   "id": "2ee17a84",
   "metadata": {},
   "outputs": [],
   "source": []
  },
  {
   "cell_type": "code",
   "execution_count": null,
   "id": "2e4c48d4",
   "metadata": {},
   "outputs": [],
   "source": []
  },
  {
   "cell_type": "code",
   "execution_count": null,
   "id": "f67099c2",
   "metadata": {},
   "outputs": [],
   "source": []
  },
  {
   "cell_type": "code",
   "execution_count": null,
   "id": "f65608b9",
   "metadata": {},
   "outputs": [],
   "source": []
  },
  {
   "cell_type": "code",
   "execution_count": null,
   "id": "d0ea5c09",
   "metadata": {},
   "outputs": [],
   "source": []
  },
  {
   "cell_type": "code",
   "execution_count": null,
   "id": "f88b30b2",
   "metadata": {},
   "outputs": [],
   "source": []
  },
  {
   "cell_type": "code",
   "execution_count": null,
   "id": "6cd388ed",
   "metadata": {},
   "outputs": [],
   "source": []
  },
  {
   "cell_type": "code",
   "execution_count": null,
   "id": "e43b596c",
   "metadata": {},
   "outputs": [],
   "source": []
  },
  {
   "cell_type": "code",
   "execution_count": null,
   "id": "d1327e6a",
   "metadata": {},
   "outputs": [],
   "source": []
  },
  {
   "cell_type": "code",
   "execution_count": null,
   "id": "6bc03bfa",
   "metadata": {},
   "outputs": [],
   "source": []
  },
  {
   "cell_type": "code",
   "execution_count": null,
   "id": "bff6c0e9",
   "metadata": {},
   "outputs": [],
   "source": []
  },
  {
   "cell_type": "code",
   "execution_count": null,
   "id": "68f162e0",
   "metadata": {},
   "outputs": [],
   "source": []
  },
  {
   "cell_type": "code",
   "execution_count": null,
   "id": "081a9547",
   "metadata": {},
   "outputs": [],
   "source": []
  },
  {
   "cell_type": "code",
   "execution_count": null,
   "id": "26c8d9b7",
   "metadata": {},
   "outputs": [],
   "source": []
  }
 ],
 "metadata": {
  "kernelspec": {
   "display_name": "Python 3 (ipykernel)",
   "language": "python",
   "name": "python3"
  },
  "language_info": {
   "codemirror_mode": {
    "name": "ipython",
    "version": 3
   },
   "file_extension": ".py",
   "mimetype": "text/x-python",
   "name": "python",
   "nbconvert_exporter": "python",
   "pygments_lexer": "ipython3",
   "version": "3.9.13"
  }
 },
 "nbformat": 4,
 "nbformat_minor": 5
}
